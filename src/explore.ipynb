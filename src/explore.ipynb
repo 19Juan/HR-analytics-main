{
    "cells": [
        {
            "cell_type": "markdown",
            "metadata": {},
            "source": [
                "# Predicción de deserción de un empleado"
            ]
        },
        {
            "cell_type": "code",
            "execution_count": 6,
            "metadata": {},
            "outputs": [
                {
                    "name": "stdout",
                    "output_type": "stream",
                    "text": [
                        "Dataset URL: https://www.kaggle.com/datasets/raminhuseyn/hr-analytics-data-set\n"
                    ]
                }
            ],
            "source": [
                "import kaggle\n",
                "from kaggle.api.kaggle_api_extended import KaggleApi\n",
                "\n",
                "api = KaggleApi()\n",
                "api.authenticate()\n",
                "\n",
                "# Descargar el dataset\n",
                "\n",
                "handle = 'raminhuseyn/hr-analytics-data-set'\n",
                "\n",
                "api.dataset_download_files(handle, path='../data/raw', unzip=True)\n"
            ]
        },
        {
            "cell_type": "code",
            "execution_count": 7,
            "metadata": {},
            "outputs": [
                {
                    "data": {
                        "application/vnd.microsoft.datawrangler.viewer.v0+json": {
                            "columns": [
                                {
                                    "name": "index",
                                    "rawType": "int64",
                                    "type": "integer"
                                },
                                {
                                    "name": "satisfaction_level",
                                    "rawType": "float64",
                                    "type": "float"
                                },
                                {
                                    "name": "last_evaluation",
                                    "rawType": "float64",
                                    "type": "float"
                                },
                                {
                                    "name": "number_project",
                                    "rawType": "int64",
                                    "type": "integer"
                                },
                                {
                                    "name": "average_montly_hours",
                                    "rawType": "int64",
                                    "type": "integer"
                                },
                                {
                                    "name": "time_spend_company",
                                    "rawType": "int64",
                                    "type": "integer"
                                },
                                {
                                    "name": "Work_accident",
                                    "rawType": "int64",
                                    "type": "integer"
                                },
                                {
                                    "name": "left",
                                    "rawType": "int64",
                                    "type": "integer"
                                },
                                {
                                    "name": "promotion_last_5years",
                                    "rawType": "int64",
                                    "type": "integer"
                                },
                                {
                                    "name": "Department",
                                    "rawType": "object",
                                    "type": "string"
                                },
                                {
                                    "name": "salary",
                                    "rawType": "object",
                                    "type": "string"
                                }
                            ],
                            "conversionMethod": "pd.DataFrame",
                            "ref": "22da9597-7124-462a-b34b-f62949c5197d",
                            "rows": [
                                [
                                    "0",
                                    "0.38",
                                    "0.53",
                                    "2",
                                    "157",
                                    "3",
                                    "0",
                                    "1",
                                    "0",
                                    "sales",
                                    "low"
                                ],
                                [
                                    "1",
                                    "0.8",
                                    "0.86",
                                    "5",
                                    "262",
                                    "6",
                                    "0",
                                    "1",
                                    "0",
                                    "sales",
                                    "medium"
                                ],
                                [
                                    "2",
                                    "0.11",
                                    "0.88",
                                    "7",
                                    "272",
                                    "4",
                                    "0",
                                    "1",
                                    "0",
                                    "sales",
                                    "medium"
                                ],
                                [
                                    "3",
                                    "0.72",
                                    "0.87",
                                    "5",
                                    "223",
                                    "5",
                                    "0",
                                    "1",
                                    "0",
                                    "sales",
                                    "low"
                                ],
                                [
                                    "4",
                                    "0.37",
                                    "0.52",
                                    "2",
                                    "159",
                                    "3",
                                    "0",
                                    "1",
                                    "0",
                                    "sales",
                                    "low"
                                ]
                            ],
                            "shape": {
                                "columns": 10,
                                "rows": 5
                            }
                        },
                        "text/html": [
                            "<div>\n",
                            "<style scoped>\n",
                            "    .dataframe tbody tr th:only-of-type {\n",
                            "        vertical-align: middle;\n",
                            "    }\n",
                            "\n",
                            "    .dataframe tbody tr th {\n",
                            "        vertical-align: top;\n",
                            "    }\n",
                            "\n",
                            "    .dataframe thead th {\n",
                            "        text-align: right;\n",
                            "    }\n",
                            "</style>\n",
                            "<table border=\"1\" class=\"dataframe\">\n",
                            "  <thead>\n",
                            "    <tr style=\"text-align: right;\">\n",
                            "      <th></th>\n",
                            "      <th>satisfaction_level</th>\n",
                            "      <th>last_evaluation</th>\n",
                            "      <th>number_project</th>\n",
                            "      <th>average_montly_hours</th>\n",
                            "      <th>time_spend_company</th>\n",
                            "      <th>Work_accident</th>\n",
                            "      <th>left</th>\n",
                            "      <th>promotion_last_5years</th>\n",
                            "      <th>Department</th>\n",
                            "      <th>salary</th>\n",
                            "    </tr>\n",
                            "  </thead>\n",
                            "  <tbody>\n",
                            "    <tr>\n",
                            "      <th>0</th>\n",
                            "      <td>0.38</td>\n",
                            "      <td>0.53</td>\n",
                            "      <td>2</td>\n",
                            "      <td>157</td>\n",
                            "      <td>3</td>\n",
                            "      <td>0</td>\n",
                            "      <td>1</td>\n",
                            "      <td>0</td>\n",
                            "      <td>sales</td>\n",
                            "      <td>low</td>\n",
                            "    </tr>\n",
                            "    <tr>\n",
                            "      <th>1</th>\n",
                            "      <td>0.80</td>\n",
                            "      <td>0.86</td>\n",
                            "      <td>5</td>\n",
                            "      <td>262</td>\n",
                            "      <td>6</td>\n",
                            "      <td>0</td>\n",
                            "      <td>1</td>\n",
                            "      <td>0</td>\n",
                            "      <td>sales</td>\n",
                            "      <td>medium</td>\n",
                            "    </tr>\n",
                            "    <tr>\n",
                            "      <th>2</th>\n",
                            "      <td>0.11</td>\n",
                            "      <td>0.88</td>\n",
                            "      <td>7</td>\n",
                            "      <td>272</td>\n",
                            "      <td>4</td>\n",
                            "      <td>0</td>\n",
                            "      <td>1</td>\n",
                            "      <td>0</td>\n",
                            "      <td>sales</td>\n",
                            "      <td>medium</td>\n",
                            "    </tr>\n",
                            "    <tr>\n",
                            "      <th>3</th>\n",
                            "      <td>0.72</td>\n",
                            "      <td>0.87</td>\n",
                            "      <td>5</td>\n",
                            "      <td>223</td>\n",
                            "      <td>5</td>\n",
                            "      <td>0</td>\n",
                            "      <td>1</td>\n",
                            "      <td>0</td>\n",
                            "      <td>sales</td>\n",
                            "      <td>low</td>\n",
                            "    </tr>\n",
                            "    <tr>\n",
                            "      <th>4</th>\n",
                            "      <td>0.37</td>\n",
                            "      <td>0.52</td>\n",
                            "      <td>2</td>\n",
                            "      <td>159</td>\n",
                            "      <td>3</td>\n",
                            "      <td>0</td>\n",
                            "      <td>1</td>\n",
                            "      <td>0</td>\n",
                            "      <td>sales</td>\n",
                            "      <td>low</td>\n",
                            "    </tr>\n",
                            "  </tbody>\n",
                            "</table>\n",
                            "</div>"
                        ],
                        "text/plain": [
                            "   satisfaction_level  last_evaluation  number_project  average_montly_hours  \\\n",
                            "0                0.38             0.53               2                   157   \n",
                            "1                0.80             0.86               5                   262   \n",
                            "2                0.11             0.88               7                   272   \n",
                            "3                0.72             0.87               5                   223   \n",
                            "4                0.37             0.52               2                   159   \n",
                            "\n",
                            "   time_spend_company  Work_accident  left  promotion_last_5years Department  \\\n",
                            "0                   3              0     1                      0      sales   \n",
                            "1                   6              0     1                      0      sales   \n",
                            "2                   4              0     1                      0      sales   \n",
                            "3                   5              0     1                      0      sales   \n",
                            "4                   3              0     1                      0      sales   \n",
                            "\n",
                            "   salary  \n",
                            "0     low  \n",
                            "1  medium  \n",
                            "2  medium  \n",
                            "3     low  \n",
                            "4     low  "
                        ]
                    },
                    "execution_count": 7,
                    "metadata": {},
                    "output_type": "execute_result"
                }
            ],
            "source": [
                "import pandas as pd\n",
                "\n",
                "df = pd.read_csv('../data/raw/HR_capstone_dataset.csv')\n",
                "df.head()"
            ]
        }
    ],
    "metadata": {
        "kernelspec": {
            "display_name": ".venv",
            "language": "python",
            "name": "python3"
        },
        "language_info": {
            "codemirror_mode": {
                "name": "ipython",
                "version": 3
            },
            "file_extension": ".py",
            "mimetype": "text/x-python",
            "name": "python",
            "nbconvert_exporter": "python",
            "pygments_lexer": "ipython3",
            "version": "3.11.9"
        },
        "orig_nbformat": 4
    },
    "nbformat": 4,
    "nbformat_minor": 2
}
