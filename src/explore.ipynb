{
    "cells": [
        {
            "cell_type": "markdown",
            "metadata": {},
            "source": [
                "# Predicción de deserción de un empleado"
            ]
        },
        {
            "cell_type": "code",
            "execution_count": 5,
            "metadata": {},
            "outputs": [
                {
                    "name": "stdout",
                    "output_type": "stream",
                    "text": [
                        "Dataset URL: https://www.kaggle.com/datasets/raminhuseyn/hr-analytics-data-set\n"
                    ]
                }
            ],
            "source": [
                "import kaggle\n",
                "from kaggle.api.kaggle_api_extended import KaggleApi\n",
                "\n",
                "api = KaggleApi()\n",
                "api.authenticate()\n",
                "\n",
                "# Descargar el dataset\n",
                "\n",
                "handle = 'raminhuseyn/hr-analytics-data-set'\n",
                "\n",
                "api.dataset_download_files(handle, path='../data/raw', unzip=True)\n"
            ]
        },
        {
            "cell_type": "code",
            "execution_count": 6,
            "metadata": {},
            "outputs": [
                {
                    "data": {
                        "application/vnd.microsoft.datawrangler.viewer.v0+json": {
                            "columns": [
                                {
                                    "name": "index",
                                    "rawType": "int64",
                                    "type": "integer"
                                },
                                {
                                    "name": "satisfaction_level",
                                    "rawType": "float64",
                                    "type": "float"
                                },
                                {
                                    "name": "last_evaluation",
                                    "rawType": "float64",
                                    "type": "float"
                                },
                                {
                                    "name": "number_project",
                                    "rawType": "int64",
                                    "type": "integer"
                                },
                                {
                                    "name": "average_montly_hours",
                                    "rawType": "int64",
                                    "type": "integer"
                                },
                                {
                                    "name": "time_spend_company",
                                    "rawType": "int64",
                                    "type": "integer"
                                },
                                {
                                    "name": "Work_accident",
                                    "rawType": "int64",
                                    "type": "integer"
                                },
                                {
                                    "name": "left",
                                    "rawType": "int64",
                                    "type": "integer"
                                },
                                {
                                    "name": "promotion_last_5years",
                                    "rawType": "int64",
                                    "type": "integer"
                                },
                                {
                                    "name": "Department",
                                    "rawType": "object",
                                    "type": "string"
                                },
                                {
                                    "name": "salary",
                                    "rawType": "object",
                                    "type": "string"
                                }
                            ],
                            "conversionMethod": "pd.DataFrame",
                            "ref": "9da2da5d-6056-4804-9586-a253ba62f1a1",
                            "rows": [
                                [
                                    "0",
                                    "0.38",
                                    "0.53",
                                    "2",
                                    "157",
                                    "3",
                                    "0",
                                    "1",
                                    "0",
                                    "sales",
                                    "low"
                                ],
                                [
                                    "1",
                                    "0.8",
                                    "0.86",
                                    "5",
                                    "262",
                                    "6",
                                    "0",
                                    "1",
                                    "0",
                                    "sales",
                                    "medium"
                                ],
                                [
                                    "2",
                                    "0.11",
                                    "0.88",
                                    "7",
                                    "272",
                                    "4",
                                    "0",
                                    "1",
                                    "0",
                                    "sales",
                                    "medium"
                                ],
                                [
                                    "3",
                                    "0.72",
                                    "0.87",
                                    "5",
                                    "223",
                                    "5",
                                    "0",
                                    "1",
                                    "0",
                                    "sales",
                                    "low"
                                ],
                                [
                                    "4",
                                    "0.37",
                                    "0.52",
                                    "2",
                                    "159",
                                    "3",
                                    "0",
                                    "1",
                                    "0",
                                    "sales",
                                    "low"
                                ]
                            ],
                            "shape": {
                                "columns": 10,
                                "rows": 5
                            }
                        },
                        "text/html": [
                            "<div>\n",
                            "<style scoped>\n",
                            "    .dataframe tbody tr th:only-of-type {\n",
                            "        vertical-align: middle;\n",
                            "    }\n",
                            "\n",
                            "    .dataframe tbody tr th {\n",
                            "        vertical-align: top;\n",
                            "    }\n",
                            "\n",
                            "    .dataframe thead th {\n",
                            "        text-align: right;\n",
                            "    }\n",
                            "</style>\n",
                            "<table border=\"1\" class=\"dataframe\">\n",
                            "  <thead>\n",
                            "    <tr style=\"text-align: right;\">\n",
                            "      <th></th>\n",
                            "      <th>satisfaction_level</th>\n",
                            "      <th>last_evaluation</th>\n",
                            "      <th>number_project</th>\n",
                            "      <th>average_montly_hours</th>\n",
                            "      <th>time_spend_company</th>\n",
                            "      <th>Work_accident</th>\n",
                            "      <th>left</th>\n",
                            "      <th>promotion_last_5years</th>\n",
                            "      <th>Department</th>\n",
                            "      <th>salary</th>\n",
                            "    </tr>\n",
                            "  </thead>\n",
                            "  <tbody>\n",
                            "    <tr>\n",
                            "      <th>0</th>\n",
                            "      <td>0.38</td>\n",
                            "      <td>0.53</td>\n",
                            "      <td>2</td>\n",
                            "      <td>157</td>\n",
                            "      <td>3</td>\n",
                            "      <td>0</td>\n",
                            "      <td>1</td>\n",
                            "      <td>0</td>\n",
                            "      <td>sales</td>\n",
                            "      <td>low</td>\n",
                            "    </tr>\n",
                            "    <tr>\n",
                            "      <th>1</th>\n",
                            "      <td>0.80</td>\n",
                            "      <td>0.86</td>\n",
                            "      <td>5</td>\n",
                            "      <td>262</td>\n",
                            "      <td>6</td>\n",
                            "      <td>0</td>\n",
                            "      <td>1</td>\n",
                            "      <td>0</td>\n",
                            "      <td>sales</td>\n",
                            "      <td>medium</td>\n",
                            "    </tr>\n",
                            "    <tr>\n",
                            "      <th>2</th>\n",
                            "      <td>0.11</td>\n",
                            "      <td>0.88</td>\n",
                            "      <td>7</td>\n",
                            "      <td>272</td>\n",
                            "      <td>4</td>\n",
                            "      <td>0</td>\n",
                            "      <td>1</td>\n",
                            "      <td>0</td>\n",
                            "      <td>sales</td>\n",
                            "      <td>medium</td>\n",
                            "    </tr>\n",
                            "    <tr>\n",
                            "      <th>3</th>\n",
                            "      <td>0.72</td>\n",
                            "      <td>0.87</td>\n",
                            "      <td>5</td>\n",
                            "      <td>223</td>\n",
                            "      <td>5</td>\n",
                            "      <td>0</td>\n",
                            "      <td>1</td>\n",
                            "      <td>0</td>\n",
                            "      <td>sales</td>\n",
                            "      <td>low</td>\n",
                            "    </tr>\n",
                            "    <tr>\n",
                            "      <th>4</th>\n",
                            "      <td>0.37</td>\n",
                            "      <td>0.52</td>\n",
                            "      <td>2</td>\n",
                            "      <td>159</td>\n",
                            "      <td>3</td>\n",
                            "      <td>0</td>\n",
                            "      <td>1</td>\n",
                            "      <td>0</td>\n",
                            "      <td>sales</td>\n",
                            "      <td>low</td>\n",
                            "    </tr>\n",
                            "  </tbody>\n",
                            "</table>\n",
                            "</div>"
                        ],
                        "text/plain": [
                            "   satisfaction_level  last_evaluation  number_project  average_montly_hours  \\\n",
                            "0                0.38             0.53               2                   157   \n",
                            "1                0.80             0.86               5                   262   \n",
                            "2                0.11             0.88               7                   272   \n",
                            "3                0.72             0.87               5                   223   \n",
                            "4                0.37             0.52               2                   159   \n",
                            "\n",
                            "   time_spend_company  Work_accident  left  promotion_last_5years Department  \\\n",
                            "0                   3              0     1                      0      sales   \n",
                            "1                   6              0     1                      0      sales   \n",
                            "2                   4              0     1                      0      sales   \n",
                            "3                   5              0     1                      0      sales   \n",
                            "4                   3              0     1                      0      sales   \n",
                            "\n",
                            "   salary  \n",
                            "0     low  \n",
                            "1  medium  \n",
                            "2  medium  \n",
                            "3     low  \n",
                            "4     low  "
                        ]
                    },
                    "execution_count": 6,
                    "metadata": {},
                    "output_type": "execute_result"
                }
            ],
            "source": [
                "import pandas as pd\n",
                "\n",
                "df = pd.read_csv('../data/raw/HR_capstone_dataset.csv')\n",
                "df.head()"
            ]
        },
        {
            "cell_type": "code",
            "execution_count": 7,
            "metadata": {},
            "outputs": [
                {
                    "name": "stdout",
                    "output_type": "stream",
                    "text": [
                        "<class 'pandas.core.frame.DataFrame'>\n",
                        "RangeIndex: 14999 entries, 0 to 14998\n",
                        "Data columns (total 10 columns):\n",
                        " #   Column                 Non-Null Count  Dtype  \n",
                        "---  ------                 --------------  -----  \n",
                        " 0   satisfaction_level     14999 non-null  float64\n",
                        " 1   last_evaluation        14999 non-null  float64\n",
                        " 2   number_project         14999 non-null  int64  \n",
                        " 3   average_montly_hours   14999 non-null  int64  \n",
                        " 4   time_spend_company     14999 non-null  int64  \n",
                        " 5   Work_accident          14999 non-null  int64  \n",
                        " 6   left                   14999 non-null  int64  \n",
                        " 7   promotion_last_5years  14999 non-null  int64  \n",
                        " 8   Department             14999 non-null  object \n",
                        " 9   salary                 14999 non-null  object \n",
                        "dtypes: float64(2), int64(6), object(2)\n",
                        "memory usage: 1.1+ MB\n"
                    ]
                }
            ],
            "source": [
                "df.info()"
            ]
        },
        {
            "cell_type": "code",
            "execution_count": 8,
            "metadata": {},
            "outputs": [
                {
                    "data": {
                        "application/vnd.microsoft.datawrangler.viewer.v0+json": {
                            "columns": [
                                {
                                    "name": "index",
                                    "rawType": "object",
                                    "type": "string"
                                },
                                {
                                    "name": "satisfaction_level",
                                    "rawType": "float64",
                                    "type": "float"
                                },
                                {
                                    "name": "last_evaluation",
                                    "rawType": "float64",
                                    "type": "float"
                                },
                                {
                                    "name": "number_project",
                                    "rawType": "float64",
                                    "type": "float"
                                },
                                {
                                    "name": "average_montly_hours",
                                    "rawType": "float64",
                                    "type": "float"
                                },
                                {
                                    "name": "time_spend_company",
                                    "rawType": "float64",
                                    "type": "float"
                                },
                                {
                                    "name": "Work_accident",
                                    "rawType": "float64",
                                    "type": "float"
                                },
                                {
                                    "name": "left",
                                    "rawType": "float64",
                                    "type": "float"
                                },
                                {
                                    "name": "promotion_last_5years",
                                    "rawType": "float64",
                                    "type": "float"
                                }
                            ],
                            "conversionMethod": "pd.DataFrame",
                            "ref": "58ff17b1-a3a1-4105-9924-a51890508422",
                            "rows": [
                                [
                                    "count",
                                    "14999.0",
                                    "14999.0",
                                    "14999.0",
                                    "14999.0",
                                    "14999.0",
                                    "14999.0",
                                    "14999.0",
                                    "14999.0"
                                ],
                                [
                                    "mean",
                                    "0.6128335222348156",
                                    "0.7161017401160078",
                                    "3.80305353690246",
                                    "201.0503366891126",
                                    "3.498233215547703",
                                    "0.1446096406427095",
                                    "0.2380825388359224",
                                    "0.021268084538969265"
                                ],
                                [
                                    "std",
                                    "0.24863065106114257",
                                    "0.17116911062327533",
                                    "1.2325923553183522",
                                    "49.94309937128408",
                                    "1.4601362305354812",
                                    "0.35171855238017985",
                                    "0.4259240993802994",
                                    "0.14428146457858232"
                                ],
                                [
                                    "min",
                                    "0.09",
                                    "0.36",
                                    "2.0",
                                    "96.0",
                                    "2.0",
                                    "0.0",
                                    "0.0",
                                    "0.0"
                                ],
                                [
                                    "25%",
                                    "0.44",
                                    "0.56",
                                    "3.0",
                                    "156.0",
                                    "3.0",
                                    "0.0",
                                    "0.0",
                                    "0.0"
                                ],
                                [
                                    "50%",
                                    "0.64",
                                    "0.72",
                                    "4.0",
                                    "200.0",
                                    "3.0",
                                    "0.0",
                                    "0.0",
                                    "0.0"
                                ],
                                [
                                    "75%",
                                    "0.82",
                                    "0.87",
                                    "5.0",
                                    "245.0",
                                    "4.0",
                                    "0.0",
                                    "0.0",
                                    "0.0"
                                ],
                                [
                                    "max",
                                    "1.0",
                                    "1.0",
                                    "7.0",
                                    "310.0",
                                    "10.0",
                                    "1.0",
                                    "1.0",
                                    "1.0"
                                ]
                            ],
                            "shape": {
                                "columns": 8,
                                "rows": 8
                            }
                        },
                        "text/html": [
                            "<div>\n",
                            "<style scoped>\n",
                            "    .dataframe tbody tr th:only-of-type {\n",
                            "        vertical-align: middle;\n",
                            "    }\n",
                            "\n",
                            "    .dataframe tbody tr th {\n",
                            "        vertical-align: top;\n",
                            "    }\n",
                            "\n",
                            "    .dataframe thead th {\n",
                            "        text-align: right;\n",
                            "    }\n",
                            "</style>\n",
                            "<table border=\"1\" class=\"dataframe\">\n",
                            "  <thead>\n",
                            "    <tr style=\"text-align: right;\">\n",
                            "      <th></th>\n",
                            "      <th>satisfaction_level</th>\n",
                            "      <th>last_evaluation</th>\n",
                            "      <th>number_project</th>\n",
                            "      <th>average_montly_hours</th>\n",
                            "      <th>time_spend_company</th>\n",
                            "      <th>Work_accident</th>\n",
                            "      <th>left</th>\n",
                            "      <th>promotion_last_5years</th>\n",
                            "    </tr>\n",
                            "  </thead>\n",
                            "  <tbody>\n",
                            "    <tr>\n",
                            "      <th>count</th>\n",
                            "      <td>14999.000000</td>\n",
                            "      <td>14999.000000</td>\n",
                            "      <td>14999.000000</td>\n",
                            "      <td>14999.000000</td>\n",
                            "      <td>14999.000000</td>\n",
                            "      <td>14999.000000</td>\n",
                            "      <td>14999.000000</td>\n",
                            "      <td>14999.000000</td>\n",
                            "    </tr>\n",
                            "    <tr>\n",
                            "      <th>mean</th>\n",
                            "      <td>0.612834</td>\n",
                            "      <td>0.716102</td>\n",
                            "      <td>3.803054</td>\n",
                            "      <td>201.050337</td>\n",
                            "      <td>3.498233</td>\n",
                            "      <td>0.144610</td>\n",
                            "      <td>0.238083</td>\n",
                            "      <td>0.021268</td>\n",
                            "    </tr>\n",
                            "    <tr>\n",
                            "      <th>std</th>\n",
                            "      <td>0.248631</td>\n",
                            "      <td>0.171169</td>\n",
                            "      <td>1.232592</td>\n",
                            "      <td>49.943099</td>\n",
                            "      <td>1.460136</td>\n",
                            "      <td>0.351719</td>\n",
                            "      <td>0.425924</td>\n",
                            "      <td>0.144281</td>\n",
                            "    </tr>\n",
                            "    <tr>\n",
                            "      <th>min</th>\n",
                            "      <td>0.090000</td>\n",
                            "      <td>0.360000</td>\n",
                            "      <td>2.000000</td>\n",
                            "      <td>96.000000</td>\n",
                            "      <td>2.000000</td>\n",
                            "      <td>0.000000</td>\n",
                            "      <td>0.000000</td>\n",
                            "      <td>0.000000</td>\n",
                            "    </tr>\n",
                            "    <tr>\n",
                            "      <th>25%</th>\n",
                            "      <td>0.440000</td>\n",
                            "      <td>0.560000</td>\n",
                            "      <td>3.000000</td>\n",
                            "      <td>156.000000</td>\n",
                            "      <td>3.000000</td>\n",
                            "      <td>0.000000</td>\n",
                            "      <td>0.000000</td>\n",
                            "      <td>0.000000</td>\n",
                            "    </tr>\n",
                            "    <tr>\n",
                            "      <th>50%</th>\n",
                            "      <td>0.640000</td>\n",
                            "      <td>0.720000</td>\n",
                            "      <td>4.000000</td>\n",
                            "      <td>200.000000</td>\n",
                            "      <td>3.000000</td>\n",
                            "      <td>0.000000</td>\n",
                            "      <td>0.000000</td>\n",
                            "      <td>0.000000</td>\n",
                            "    </tr>\n",
                            "    <tr>\n",
                            "      <th>75%</th>\n",
                            "      <td>0.820000</td>\n",
                            "      <td>0.870000</td>\n",
                            "      <td>5.000000</td>\n",
                            "      <td>245.000000</td>\n",
                            "      <td>4.000000</td>\n",
                            "      <td>0.000000</td>\n",
                            "      <td>0.000000</td>\n",
                            "      <td>0.000000</td>\n",
                            "    </tr>\n",
                            "    <tr>\n",
                            "      <th>max</th>\n",
                            "      <td>1.000000</td>\n",
                            "      <td>1.000000</td>\n",
                            "      <td>7.000000</td>\n",
                            "      <td>310.000000</td>\n",
                            "      <td>10.000000</td>\n",
                            "      <td>1.000000</td>\n",
                            "      <td>1.000000</td>\n",
                            "      <td>1.000000</td>\n",
                            "    </tr>\n",
                            "  </tbody>\n",
                            "</table>\n",
                            "</div>"
                        ],
                        "text/plain": [
                            "       satisfaction_level  last_evaluation  number_project  \\\n",
                            "count        14999.000000     14999.000000    14999.000000   \n",
                            "mean             0.612834         0.716102        3.803054   \n",
                            "std              0.248631         0.171169        1.232592   \n",
                            "min              0.090000         0.360000        2.000000   \n",
                            "25%              0.440000         0.560000        3.000000   \n",
                            "50%              0.640000         0.720000        4.000000   \n",
                            "75%              0.820000         0.870000        5.000000   \n",
                            "max              1.000000         1.000000        7.000000   \n",
                            "\n",
                            "       average_montly_hours  time_spend_company  Work_accident          left  \\\n",
                            "count          14999.000000        14999.000000   14999.000000  14999.000000   \n",
                            "mean             201.050337            3.498233       0.144610      0.238083   \n",
                            "std               49.943099            1.460136       0.351719      0.425924   \n",
                            "min               96.000000            2.000000       0.000000      0.000000   \n",
                            "25%              156.000000            3.000000       0.000000      0.000000   \n",
                            "50%              200.000000            3.000000       0.000000      0.000000   \n",
                            "75%              245.000000            4.000000       0.000000      0.000000   \n",
                            "max              310.000000           10.000000       1.000000      1.000000   \n",
                            "\n",
                            "       promotion_last_5years  \n",
                            "count           14999.000000  \n",
                            "mean                0.021268  \n",
                            "std                 0.144281  \n",
                            "min                 0.000000  \n",
                            "25%                 0.000000  \n",
                            "50%                 0.000000  \n",
                            "75%                 0.000000  \n",
                            "max                 1.000000  "
                        ]
                    },
                    "execution_count": 8,
                    "metadata": {},
                    "output_type": "execute_result"
                }
            ],
            "source": [
                "df.describe()"
            ]
        }
    ],
    "metadata": {
        "kernelspec": {
            "display_name": ".venv",
            "language": "python",
            "name": "python3"
        },
        "language_info": {
            "codemirror_mode": {
                "name": "ipython",
                "version": 3
            },
            "file_extension": ".py",
            "mimetype": "text/x-python",
            "name": "python",
            "nbconvert_exporter": "python",
            "pygments_lexer": "ipython3",
            "version": "3.11.9"
        },
        "orig_nbformat": 4
    },
    "nbformat": 4,
    "nbformat_minor": 2
}
